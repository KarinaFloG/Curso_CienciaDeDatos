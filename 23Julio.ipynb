{
 "cells": [
  {
   "cell_type": "markdown",
   "metadata": {},
   "source": [
    "# Integrales "
   ]
  },
  {
   "cell_type": "code",
   "execution_count": 34,
   "metadata": {},
   "outputs": [],
   "source": [
    "import pandas as pd\n",
    "import matplotlib.pyplot as plt\n",
    "import seaborn as sbn\n",
    "import numpy as np\n",
    "import shapefile as shp\n",
    "#Biblioteca para integrales\n",
    "import scipy.integrate as integrate\n",
    "from scipy.integrate import simps\n",
    "from scipy.stats import norm\n",
    "#Regresiones lineares\n",
    "from sklearn.linear_model import LinearRegression\n",
    "import math"
   ]
  },
  {
   "cell_type": "code",
   "execution_count": 2,
   "metadata": {},
   "outputs": [],
   "source": [
    "data = pd.read_csv(\"../data.csv\")"
   ]
  },
  {
   "cell_type": "code",
   "execution_count": 3,
   "metadata": {},
   "outputs": [],
   "source": [
    "def plot_map(sf, x_lim = None, y_lim = None, figsize = (15,18)):\n",
    "    '''\n",
    "    Plot map with lim coordinates\n",
    "    '''\n",
    "    plt.figure(figsize = figsize)\n",
    "    id=0\n",
    "    for shape in sf.shapeRecords():\n",
    "        x = [i[0] for i in shape.shape.points[:]]\n",
    "        y = [i[1] for i in shape.shape.points[:]]\n",
    "        plt.plot(x, y, 'b')\n",
    "        \n",
    "        if (x_lim == None) & (y_lim == None):\n",
    "            x0 = np.mean(x)\n",
    "            y0 = np.mean(y)\n",
    "            plt.text(x0, y0, id, fontsize=10)\n",
    "        id = id+1\n",
    "    \n",
    "    if (x_lim != None) & (y_lim != None):     \n",
    "        plt.xlim(x_lim)\n",
    "        plt.ylim(y_lim)"
   ]
  },
  {
   "cell_type": "code",
   "execution_count": 4,
   "metadata": {},
   "outputs": [],
   "source": [
    "def read_shapefile(sf):\n",
    "    \"\"\"\n",
    "    Read a shapefile into a Pandas dataframe with a 'coords' \n",
    "    column holding the geometry information. This uses the pyshp\n",
    "    package\n",
    "    \"\"\"\n",
    "    fields = [x[0] for x in sf.fields][1:]\n",
    "    records = sf.records()\n",
    "    shps = [s.points for s in sf.shapes()]\n",
    "    df = pd.DataFrame(columns=fields, data=records)\n",
    "    df = df.assign(coords=shps)\n",
    "    return df"
   ]
  },
  {
   "cell_type": "code",
   "execution_count": 5,
   "metadata": {},
   "outputs": [
    {
     "data": {
      "text/html": [
       "<div>\n",
       "<style scoped>\n",
       "    .dataframe tbody tr th:only-of-type {\n",
       "        vertical-align: middle;\n",
       "    }\n",
       "\n",
       "    .dataframe tbody tr th {\n",
       "        vertical-align: top;\n",
       "    }\n",
       "\n",
       "    .dataframe thead th {\n",
       "        text-align: right;\n",
       "    }\n",
       "</style>\n",
       "<table border=\"1\" class=\"dataframe\">\n",
       "  <thead>\n",
       "    <tr style=\"text-align: right;\">\n",
       "      <th></th>\n",
       "      <th>nomgeo</th>\n",
       "      <th>cve_mun</th>\n",
       "      <th>cve_ent</th>\n",
       "      <th>cvegeo</th>\n",
       "      <th>municipio</th>\n",
       "      <th>coords</th>\n",
       "    </tr>\n",
       "  </thead>\n",
       "  <tbody>\n",
       "    <tr>\n",
       "      <th>0</th>\n",
       "      <td>Milpa Alta</td>\n",
       "      <td>009</td>\n",
       "      <td>09</td>\n",
       "      <td>09009</td>\n",
       "      <td>9</td>\n",
       "      <td>[(-98.99723373999994, 19.22731068999911), (-98...</td>\n",
       "    </tr>\n",
       "    <tr>\n",
       "      <th>1</th>\n",
       "      <td>Benito Juárez</td>\n",
       "      <td>014</td>\n",
       "      <td>09</td>\n",
       "      <td>09014</td>\n",
       "      <td>14</td>\n",
       "      <td>[(-99.13679462999991, 19.401556719999114), (-9...</td>\n",
       "    </tr>\n",
       "    <tr>\n",
       "      <th>2</th>\n",
       "      <td>Gustavo A. Madero</td>\n",
       "      <td>005</td>\n",
       "      <td>09</td>\n",
       "      <td>09005</td>\n",
       "      <td>5</td>\n",
       "      <td>[(-99.11859756999995, 19.584461719999087), (-9...</td>\n",
       "    </tr>\n",
       "    <tr>\n",
       "      <th>3</th>\n",
       "      <td>Azcapotzalco</td>\n",
       "      <td>002</td>\n",
       "      <td>09</td>\n",
       "      <td>09002</td>\n",
       "      <td>2</td>\n",
       "      <td>[(-99.18230696999991, 19.507479249999136), (-9...</td>\n",
       "    </tr>\n",
       "    <tr>\n",
       "      <th>4</th>\n",
       "      <td>Iztacalco</td>\n",
       "      <td>006</td>\n",
       "      <td>09</td>\n",
       "      <td>09006</td>\n",
       "      <td>6</td>\n",
       "      <td>[(-99.05583625999996, 19.421961229999074), (-9...</td>\n",
       "    </tr>\n",
       "    <tr>\n",
       "      <th>5</th>\n",
       "      <td>Álvaro Obregón</td>\n",
       "      <td>010</td>\n",
       "      <td>09</td>\n",
       "      <td>09010</td>\n",
       "      <td>10</td>\n",
       "      <td>[(-99.1887066199999, 19.394747649999143), (-99...</td>\n",
       "    </tr>\n",
       "    <tr>\n",
       "      <th>6</th>\n",
       "      <td>Xochimilco</td>\n",
       "      <td>013</td>\n",
       "      <td>09</td>\n",
       "      <td>09013</td>\n",
       "      <td>13</td>\n",
       "      <td>[(-99.09869648999994, 19.319641419999144), (-9...</td>\n",
       "    </tr>\n",
       "    <tr>\n",
       "      <th>7</th>\n",
       "      <td>Venustiano Carranza</td>\n",
       "      <td>017</td>\n",
       "      <td>09</td>\n",
       "      <td>09017</td>\n",
       "      <td>17</td>\n",
       "      <td>[(-99.10894588999996, 19.452733629999152), (-9...</td>\n",
       "    </tr>\n",
       "    <tr>\n",
       "      <th>8</th>\n",
       "      <td>Tlalpan</td>\n",
       "      <td>012</td>\n",
       "      <td>09</td>\n",
       "      <td>09012</td>\n",
       "      <td>12</td>\n",
       "      <td>[(-99.19628607999992, 19.30227816999913), (-99...</td>\n",
       "    </tr>\n",
       "    <tr>\n",
       "      <th>9</th>\n",
       "      <td>Cuajimalpa de Morelos</td>\n",
       "      <td>004</td>\n",
       "      <td>09</td>\n",
       "      <td>09004</td>\n",
       "      <td>4</td>\n",
       "      <td>[(-99.2569793499999, 19.400431689999134), (-99...</td>\n",
       "    </tr>\n",
       "    <tr>\n",
       "      <th>10</th>\n",
       "      <td>Cuauhtémoc</td>\n",
       "      <td>015</td>\n",
       "      <td>09</td>\n",
       "      <td>09015</td>\n",
       "      <td>15</td>\n",
       "      <td>[(-99.1291909399999, 19.462466519999165), (-99...</td>\n",
       "    </tr>\n",
       "    <tr>\n",
       "      <th>11</th>\n",
       "      <td>Iztapalapa</td>\n",
       "      <td>007</td>\n",
       "      <td>09</td>\n",
       "      <td>09007</td>\n",
       "      <td>7</td>\n",
       "      <td>[(-99.05813287699995, 19.400719584999138), (-9...</td>\n",
       "    </tr>\n",
       "    <tr>\n",
       "      <th>12</th>\n",
       "      <td>Coyoacán</td>\n",
       "      <td>003</td>\n",
       "      <td>09</td>\n",
       "      <td>09003</td>\n",
       "      <td>3</td>\n",
       "      <td>[(-99.13923187999993, 19.356865289999085), (-9...</td>\n",
       "    </tr>\n",
       "    <tr>\n",
       "      <th>13</th>\n",
       "      <td>Miguel Hidalgo</td>\n",
       "      <td>016</td>\n",
       "      <td>09</td>\n",
       "      <td>09016</td>\n",
       "      <td>16</td>\n",
       "      <td>[(-99.19057941999993, 19.467936319999115), (-9...</td>\n",
       "    </tr>\n",
       "    <tr>\n",
       "      <th>14</th>\n",
       "      <td>La Magdalena Contreras</td>\n",
       "      <td>008</td>\n",
       "      <td>09</td>\n",
       "      <td>09008</td>\n",
       "      <td>8</td>\n",
       "      <td>[(-99.208589, 19.336096169999156), (-99.208674...</td>\n",
       "    </tr>\n",
       "    <tr>\n",
       "      <th>15</th>\n",
       "      <td>Tláhuac</td>\n",
       "      <td>011</td>\n",
       "      <td>09</td>\n",
       "      <td>09011</td>\n",
       "      <td>11</td>\n",
       "      <td>[(-98.97892778499993, 19.32393053799913), (-98...</td>\n",
       "    </tr>\n",
       "  </tbody>\n",
       "</table>\n",
       "</div>"
      ],
      "text/plain": [
       "                    nomgeo cve_mun cve_ent cvegeo municipio  \\\n",
       "0               Milpa Alta     009      09  09009         9   \n",
       "1            Benito Juárez     014      09  09014        14   \n",
       "2        Gustavo A. Madero     005      09  09005         5   \n",
       "3             Azcapotzalco     002      09  09002         2   \n",
       "4                Iztacalco     006      09  09006         6   \n",
       "5           Álvaro Obregón     010      09  09010        10   \n",
       "6               Xochimilco     013      09  09013        13   \n",
       "7      Venustiano Carranza     017      09  09017        17   \n",
       "8                  Tlalpan     012      09  09012        12   \n",
       "9    Cuajimalpa de Morelos     004      09  09004         4   \n",
       "10              Cuauhtémoc     015      09  09015        15   \n",
       "11              Iztapalapa     007      09  09007         7   \n",
       "12                Coyoacán     003      09  09003         3   \n",
       "13          Miguel Hidalgo     016      09  09016        16   \n",
       "14  La Magdalena Contreras     008      09  09008         8   \n",
       "15                 Tláhuac     011      09  09011        11   \n",
       "\n",
       "                                               coords  \n",
       "0   [(-98.99723373999994, 19.22731068999911), (-98...  \n",
       "1   [(-99.13679462999991, 19.401556719999114), (-9...  \n",
       "2   [(-99.11859756999995, 19.584461719999087), (-9...  \n",
       "3   [(-99.18230696999991, 19.507479249999136), (-9...  \n",
       "4   [(-99.05583625999996, 19.421961229999074), (-9...  \n",
       "5   [(-99.1887066199999, 19.394747649999143), (-99...  \n",
       "6   [(-99.09869648999994, 19.319641419999144), (-9...  \n",
       "7   [(-99.10894588999996, 19.452733629999152), (-9...  \n",
       "8   [(-99.19628607999992, 19.30227816999913), (-99...  \n",
       "9   [(-99.2569793499999, 19.400431689999134), (-99...  \n",
       "10  [(-99.1291909399999, 19.462466519999165), (-99...  \n",
       "11  [(-99.05813287699995, 19.400719584999138), (-9...  \n",
       "12  [(-99.13923187999993, 19.356865289999085), (-9...  \n",
       "13  [(-99.19057941999993, 19.467936319999115), (-9...  \n",
       "14  [(-99.208589, 19.336096169999156), (-99.208674...  \n",
       "15  [(-98.97892778499993, 19.32393053799913), (-98...  "
      ]
     },
     "execution_count": 5,
     "metadata": {},
     "output_type": "execute_result"
    }
   ],
   "source": [
    "datos = shp.Reader(\"../alcaldias.shp\")\n",
    "alcaldias =  read_shapefile(datos)\n",
    "alcaldias\n"
   ]
  },
  {
   "cell_type": "code",
   "execution_count": 6,
   "metadata": {},
   "outputs": [],
   "source": [
    "data = pd.read_csv(\"../data.csv\")"
   ]
  },
  {
   "cell_type": "code",
   "execution_count": 7,
   "metadata": {},
   "outputs": [],
   "source": [
    "data = np.random.randint(1,5,15)"
   ]
  },
  {
   "cell_type": "code",
   "execution_count": 8,
   "metadata": {},
   "outputs": [],
   "source": [
    "rango = np.arange(0,1,.001)"
   ]
  },
  {
   "cell_type": "code",
   "execution_count": 9,
   "metadata": {},
   "outputs": [],
   "source": [
    "funcion=-rango**2+1"
   ]
  },
  {
   "cell_type": "code",
   "execution_count": 10,
   "metadata": {},
   "outputs": [
    {
     "data": {
      "text/plain": [
       "[<matplotlib.lines.Line2D at 0x1c1a40fb708>]"
      ]
     },
     "execution_count": 10,
     "metadata": {},
     "output_type": "execute_result"
    },
    {
     "data": {
      "image/png": "[encoded data removed]",
      "text/plain": [
       "<Figure size 432x288 with 1 Axes>"
      ]
     },
     "metadata": {
      "needs_background": "light"
     },
     "output_type": "display_data"
    }
   ],
   "source": [
    "plt.plot(rango,funcion)"
   ]
  },
  {
   "cell_type": "code",
   "execution_count": 11,
   "metadata": {},
   "outputs": [
    {
     "name": "stdout",
     "output_type": "stream",
     "text": [
      "0.6661665000000008\n"
     ]
    }
   ],
   "source": [
    "#Integral numerica = Suma de Riemman\n",
    "total = 0\n",
    "for i in range(0,len(rango)-1):\n",
    "    base = rango[i+1] - rango [i]\n",
    "    altura = -rango[i+1]**2+1\n",
    "    area = base * altura\n",
    "    total = total + area\n",
    "print(total)"
   ]
  },
  {
   "cell_type": "code",
   "execution_count": 12,
   "metadata": {},
   "outputs": [
    {
     "data": {
      "text/plain": [
       "3.742005998749121"
      ]
     },
     "execution_count": 12,
     "metadata": {},
     "output_type": "execute_result"
    }
   ],
   "source": [
    "#Ejemplo de una integral con la biblioteca\n",
    "rango = np.arange(1,2,.001)\n",
    "rango\n",
    "def karina(x):\n",
    "    return x**3\n",
    "#Funcion para las integrales\n",
    "simps(karina(rango),rango)"
   ]
  },
  {
   "cell_type": "code",
   "execution_count": 13,
   "metadata": {},
   "outputs": [
    {
     "data": {
      "text/plain": [
       "[<matplotlib.lines.Line2D at 0x1c18cf8d408>]"
      ]
     },
     "execution_count": 13,
     "metadata": {},
     "output_type": "execute_result"
    },
    {
     "data": {
      "image/png": "[encoded data removed]",
      "text/plain": [
       "<Figure size 432x288 with 1 Axes>"
      ]
     },
     "metadata": {
      "needs_background": "light"
     },
     "output_type": "display_data"
    }
   ],
   "source": [
    "#Función normal\n",
    "rango = np.arange(-100,100,.001)\n",
    "plt.plot(rango,norm.pdf(rango))"
   ]
  },
  {
   "cell_type": "code",
   "execution_count": 14,
   "metadata": {},
   "outputs": [
    {
     "data": {
      "text/plain": [
       "1.0"
      ]
     },
     "execution_count": 14,
     "metadata": {},
     "output_type": "execute_result"
    }
   ],
   "source": [
    "#Integral de la función normal de arriba\n",
    "simps(norm.pdf(rango),rango)"
   ]
  },
  {
   "cell_type": "code",
   "execution_count": 15,
   "metadata": {},
   "outputs": [],
   "source": [
    "x=np.array([1,5,3,6,9,8]).reshape(-1,1)\n",
    "y=np.array([3,3,1,6,5,4])"
   ]
  },
  {
   "cell_type": "code",
   "execution_count": 16,
   "metadata": {},
   "outputs": [],
   "source": [
    "data = pd.read_csv(\"../carpetas-de-investigacion-pgj-de-la-ciudad-de-mexico_2019-10-01 12_45.csv\")\n",
    "data = data[[\"fecha_hechos\",\"categoria_delito\"]]\n",
    "data = data[data.categoria_delito.str.contains(\"HOMICIDIO DOLOSO\")]\n",
    "data[\"fecha_hechos\"] = pd.to_datetime(data[\"fecha_hechos\"], format=\"%Y-%m-%d %H:%M\")\n",
    "data = data[data.fecha_hechos.dt.year==2018]"
   ]
  },
  {
   "cell_type": "code",
   "execution_count": 17,
   "metadata": {},
   "outputs": [],
   "source": [
    "data = pd.read_csv(\"../data.csv\")\n",
    "data[\"fecha_hechos\"] = pd.to_datetime(data[\"fecha_hechos\"],format=\"%Y-%m-%d %H:%M:%S\",errors=\"coerce\")"
   ]
  },
  {
   "cell_type": "code",
   "execution_count": 18,
   "metadata": {},
   "outputs": [
    {
     "data": {
      "text/plain": [
       "['VIOLENCIA FAMILIAR',\n",
       " 'ROBO DE OBJETOS DEL INTERIOR DE UN VEHICULO',\n",
       " 'TRAFICO DE INFANTES',\n",
       " 'USURPACIÓN DE IDENTIDAD',\n",
       " 'NARCOMENUDEO POSESION SIMPLE',\n",
       " 'ROBO A NEGOCIO SIN VIOLENCIA',\n",
       " 'ROBO A TRANSEUNTE DE CELULAR CON VIOLENCIA',\n",
       " 'ROBO A NEGOCIO CON VIOLENCIA',\n",
       " 'DENUNCIA DE HECHOS',\n",
       " 'FRAUDE',\n",
       " 'ROBO DE ACCESORIOS DE AUTO',\n",
       " 'ROBO A PASAJERO EN TROLEBUS SIN VIOLENCIA',\n",
       " 'ROBO DE VEHICULO DE SERVICIO PARTICULAR SIN VIOLENCIA',\n",
       " 'VIOLACION',\n",
       " 'ROBO DE DINERO',\n",
       " 'AMENAZAS',\n",
       " 'QUEBRANTAMIENTO DE SELLOS',\n",
       " 'ROBO DE VEHICULO DE SERVICIO PARTICULAR CON VIOLENCIA',\n",
       " 'DAÑO EN PROPIEDAD AJENA INTENCIONAL A CASA HABITACION',\n",
       " 'ROBO DE OBJETOS',\n",
       " 'ABUSO DE AUTORIDAD',\n",
       " 'ROBO A REPARTIDOR CON VIOLENCIA',\n",
       " 'DAÑO EN PROPIEDAD AJENA CULPOSA POR TRÁNSITO VEHICULAR A BIENES INMUEBLES',\n",
       " 'FALSIFICACION DE TITULOS AL PORTADOR Y DOCUMENTOS DE CREDITO PUBLICO',\n",
       " 'DISCRIMINACION',\n",
       " 'ROBO A TRANSEUNTE SALIENDO DEL BANCO CON VIOLENCIA',\n",
       " 'ROBO A TRANSEUNTE EN VIA PUBLICA CON VIOLENCIA',\n",
       " 'DAÑO EN PROPIEDAD AJENA CULPOSA',\n",
       " 'EXTORSION',\n",
       " 'ROBO A CASA HABITACION SIN VIOLENCIA',\n",
       " 'ROBO A REPARTIDOR Y VEHICULO CON VIOLENCIA',\n",
       " 'USO DE DOCUMENTO FALSO',\n",
       " 'MALTRATO ANIMAL',\n",
       " 'ROBO DE MOTOCICLETA SIN VIOLENCIA',\n",
       " 'ROBO DE PLACA DE AUTOMOVIL',\n",
       " 'LESIONES INTENCIONALES',\n",
       " 'LESIONES INTENCIONALES POR ARMA DE FUEGO',\n",
       " 'INSOLVENCIA ALIMENTARIA',\n",
       " 'CONTRA FUNCIONARIOS PUBLICOS',\n",
       " 'LESIONES CULPOSAS POR TRANSITO VEHICULAR EN COLISION',\n",
       " 'ABUSO DE CONFIANZA',\n",
       " 'ROBO DE DOCUMENTOS',\n",
       " 'ENCUBRIMIENTO',\n",
       " 'DESPOJO',\n",
       " 'ROBO A PASAJERO / CONDUCTOR DE VEHICULO CON VIOLENCIA',\n",
       " 'PORTACION ARMA/PROHIB.',\n",
       " 'PERDIDA DE LA VIDA POR QUEMADURA',\n",
       " 'PORNOGRAFIA INFANTIL',\n",
       " 'HOMICIDIO POR ARMA DE FUEGO',\n",
       " 'TENTATIVA DE ROBO',\n",
       " 'PRIVACION DE LA LIBERTAD PERSONAL',\n",
       " 'DAÑO EN PROPIEDAD AJENA CULPOSA POR TRÁNSITO VEHICULAR A AUTOMOVIL',\n",
       " 'DAÑO EN PROPIEDAD AJENA INTENCIONAL A BIENES INMUEBLES',\n",
       " 'DAÑO EN PROPIEDAD AJENA INTENCIONAL A AUTOMOVIL',\n",
       " 'ROBO DE VEHICULO DE PEDALES',\n",
       " 'ROBO DE VEHICULO DE SERVICIO PÚBLICO SIN VIOLENCIA',\n",
       " 'LESIONES CULPOSAS',\n",
       " 'FALSEDAD DE DECLARACIONES',\n",
       " 'PERDIDA DE LA VIDA POR ENFERMEDAD',\n",
       " 'ACOSO SEXUAL',\n",
       " 'PERDIDA DE LA VIDA POR SUICIDIO',\n",
       " 'ABUSO SEXUAL',\n",
       " 'ROBO A PASAJERO A BORDO DE METROBUS SIN VIOLENCIA',\n",
       " 'ROBO A TRANSEUNTE DE CELULAR SIN VIOLENCIA',\n",
       " 'ROBO DE OBJETOS A ESCUELA',\n",
       " 'ALLANAMIENTO DE MORADA',\n",
       " 'PERDIDA DE LA VIDA POR OTRAS CAUSAS',\n",
       " 'SUSTRACCION DE MENORES',\n",
       " 'NARCOMENUDEO POSESIÓN CON FINES DE VENTA, COMERCIO Y SUMINISTRO',\n",
       " 'DAÑO EN PROPIEDAD AJENA INTENCIONAL',\n",
       " 'LESIONES INTENCIONALES POR GOLPES',\n",
       " 'ROBO A PASAJERO EN TREN LIGERO SIN VIOLENCIA',\n",
       " 'ROBO A CASA HABITACION CON VIOLENCIA',\n",
       " 'DELITOS AMBIENTALES',\n",
       " 'COHECHO',\n",
       " 'ROBO DE VEHICULO DE SERVICIO PÚBLICO CON VIOLENCIA',\n",
       " 'HOMICIDIOS INTENCIONALES (OTROS)',\n",
       " 'ROBO A TRANSEUNTE EN NEGOCIO CON VIOLENCIA',\n",
       " 'ROBO A TRANSPORTISTA Y VEHICULO PESADO CON VIOLENCIA',\n",
       " 'TORTURA',\n",
       " 'LESIONES INTENCIONALES POR ARMA BLANCA',\n",
       " 'ROBO DE ALHAJAS',\n",
       " 'POSESION DE VEHICULO ROBADO',\n",
       " 'NEGACION DEL SERVICIO PUBLICO',\n",
       " 'TENTATIVA DE EXTORSION',\n",
       " 'ROBO A PASAJERO A BORDO DE TAXI SIN VIOLENCIA',\n",
       " 'EJERCICIO INDEBIDO DEL SERVIDOR PUBLICO',\n",
       " 'HOMICIDIO CULPOSO POR TRÁNSITO VEHICULAR (COLISION)',\n",
       " 'LA ADMINISTRACION DE JUSTICIA',\n",
       " 'LESIONES CULPOSAS POR CAIDA',\n",
       " 'ROBO A PASAJERO A BORDO DE PESERO COLECTIVO CON VIOLENCIA',\n",
       " 'ROBO A NEGOCIO Y VEHICULO CON VIOLENCIA',\n",
       " 'ROBO A PASAJERO A BORDO DE TRANSPORTE PÚBLICO CON VIOLENCIA',\n",
       " 'LESIONES CULPOSAS POR TRANSITO VEHICULAR',\n",
       " 'ROBO DE MOTOCICLETA CON VIOLENCIA',\n",
       " 'ROBO A PASAJERO A BORDO DE TRANSPORTE PÚBLICO SIN VIOLENCIA',\n",
       " 'FALSIFICACION DE DOCUMENTOS',\n",
       " 'TENTATIVA DE HOMICIDIO',\n",
       " 'ABANDONO DE PERSONA',\n",
       " 'TENTATIVA DE ROBO DE VEHICULO',\n",
       " 'ROBO A TRANSEUNTE EN VIA PUBLICA SIN VIOLENCIA',\n",
       " 'HOMICIDIO POR ARMA BLANCA',\n",
       " 'ROBO A PASAJERO A BORDO DE TAXI CON VIOLENCIA',\n",
       " 'CORRUPCION DE MENORES',\n",
       " 'ROBO A PASAJERO A BORDO DE PESERO Y VEHICULO CON VIOLENCIA',\n",
       " 'BIGAMIA',\n",
       " 'ROBO A CASA HABITACION Y VEHICULO CON VIOLENCIA',\n",
       " 'ROBO A PASAJERO A BORDO DE METRO CON VIOLENCIA',\n",
       " 'ROBO A PASAJERO A BORDO DE METRO SIN VIOLENCIA',\n",
       " 'LESIONES CULPOSAS POR CAIDA DE VEHÍCULO EN MOVIMIENTO',\n",
       " 'ROBO A TRANSEUNTE EN PARQUES Y MERCADOS CON VIOLENCIA',\n",
       " 'ROBO DE FLUIDOS',\n",
       " 'RESPONSABILIDAD PROFESIONAL',\n",
       " 'FEMINICIDIO',\n",
       " 'ROBO A REPARTIDOR SIN VIOLENCIA',\n",
       " 'PERDIDA DE LA VIDA POR CAIDA',\n",
       " 'PERDIDA DE LA VIDA POR ACCIDENTE LABORAL',\n",
       " 'CORRUPCION DE MENORES E INCAPACES',\n",
       " 'ROBO A PASAJERO / CONDUCTOR DE TAXI CON VIOLENCIA',\n",
       " 'LESIONES CULPOSAS POR QUEMADURAS',\n",
       " 'PLAGIO O SECUESTRO',\n",
       " 'RESISTENCIA DE PARTICULARES (SE OPONGA O RESISTA)',\n",
       " 'GESTIÓN AMBIENTAL',\n",
       " 'DISPAROS DE ARMA DE FUEGO',\n",
       " 'ROBO A NEGOCIO Y VEHICULO SIN VIOLENCIA',\n",
       " 'FALSIFICACION DE SELLOS, MARCAS, LLAVES Y OTROS',\n",
       " 'ATAQUE A LAS VIAS DE COMUNICACION (DAÑO A VIAS O MEDIOS DE TRANSPORTE)',\n",
       " 'ROBO DE VEHICULO DE SERVICIO OFICIAL SIN VIOLENCIA',\n",
       " 'HOMICIDIO CULPOSO POR TRÁNSITO VEHICULAR (ATROPELLADO)',\n",
       " 'VARIACION DE NOMBRE O DOMICILIO',\n",
       " 'ROBO A TRANSEUNTE SALIENDO DEL CAJERO CON VIOLENCIA',\n",
       " 'USURPACION DE PROFESION',\n",
       " 'ROBO A TRANSPORTISTA Y VEHICULO PESADO SIN VIOLENCIA',\n",
       " 'USURPACION DE FUNCIONES',\n",
       " 'EXPLOTACIÓN DE MENOR O DISCAPACITADO',\n",
       " 'TENTATIVA DE VIOLACION',\n",
       " 'PRIV. ILEGAL DE LA LIB. Y ROBO DE VEHICULO',\n",
       " 'DELITOS DE ABOGADOS PATRONOS Y LITIGANTES',\n",
       " 'ROBO DE VEHICULO DE SERVICIO OFICIAL CON VIOLENCIA',\n",
       " 'PORTACION DE ARMA DE FUEGO',\n",
       " 'ESTUPRO',\n",
       " 'REVELACION DE SECRETOS',\n",
       " 'LESIONES CULPOSAS ACCIDENTE LABORAL',\n",
       " 'DAÑO EN PROPIEDAD AJENA INTENCIONAL A NEGOCIO',\n",
       " 'PERDIDA DE LA VIDA POR PARO CARDIACO',\n",
       " 'PROVOCACION O APOLOGIA DE DELITO',\n",
       " 'ROBO DE ANIMALES',\n",
       " 'DESAPARICION FORZADA DE PERSONAS',\n",
       " 'ABORTO',\n",
       " 'HOMICIDIO CULPOSO POR TRÁNSITO VEHICULAR',\n",
       " 'HOMICIDIO CULPOSO FUERA DEL D.F (ATROPELLADO)',\n",
       " 'USO INDEBIDO DE ATRIBUCIONES Y FACULTADES',\n",
       " 'COACCION DE SERVIDORES PUBLICOS',\n",
       " 'ROBO DE VEHICULO DE SERVICIO DE TRANSPORTE SIN VIOLENCIA',\n",
       " 'INTIMIDACION',\n",
       " 'ROBO A PASAJERO EN ECOBUS SIN VIOLENCIA',\n",
       " 'HOMICIDIO POR GOLPES',\n",
       " 'VIOLACION TUMULTUARIA',\n",
       " 'PERDIDA DE LA VIDA POR AHOGAMIENTO',\n",
       " 'ROBO A CASA HABITACION Y VEHICULO SIN VIOLENCIA',\n",
       " 'DESOBEDENCIA DE PARTICULARES',\n",
       " 'PECULADO',\n",
       " 'ROBO A OFICINA PÚBLICA SIN VIOLENCIA',\n",
       " 'ROBO A PASAJERO EN RTP SIN VIOLENCIA',\n",
       " 'ROBO A REPARTIDOR Y VEHICULO SIN VIOLENCIA',\n",
       " 'TRAFICO DE INFLUENCIA',\n",
       " 'TENTATIVA DE SUICIDIO',\n",
       " 'CONCUSION',\n",
       " 'HOMICIDIO CULPOSO POR ARMA DE FUEGO',\n",
       " 'ROBO DE ARMA',\n",
       " 'VIOLACION DE CORRESPONDENCIA',\n",
       " 'ROBO A PASAJERO A BORDO DE PESERO COLECTIVO SIN VIOLENCIA',\n",
       " 'ROBO A SUCURSAL BANCARIA (SUPERMERCADO) CON VIOLENCIA',\n",
       " 'ROBO A TRANSEUNTE EN RESTAURANT CON VIOLENCIA',\n",
       " 'ROBO A SUCURSAL BANCARIA (SUPERMERCADO) SIN VIOLENCIA',\n",
       " 'TRATA DE PERSONAS',\n",
       " 'DIFAMACION',\n",
       " 'INTIMIDACION (EVITAR DENUNCIA, APORTE INFORMACIÓN O PRUEBAS)',\n",
       " 'SECUESTRO EXPRESS (PARA COMETER ROBO O EXTORSIÓN)',\n",
       " 'PERDIDA DE LA VIDA POR SUICIDIO EN EL METRO',\n",
       " 'VIOLACION EQUIPARADA',\n",
       " 'PERDIDA DE LA VIDA ASFIXIA POR ALIMENTOS/ LIQUIDOS',\n",
       " 'CAMBIO DE USO DE SUELO',\n",
       " 'PRIVACION DE LA LIBERTAD PERSONAL (REALIZAR ACTO SEXUAL)',\n",
       " 'PERDIDA DE LA VIDA POR ASFIXIA',\n",
       " 'ROBO DE VEHICULO DE SERVICIO DE TRANSPORTE CON VIOLENCIA',\n",
       " 'DELITOS CONTRA LA SALUD',\n",
       " 'ULTRAJES',\n",
       " 'ROBO EN INTERIOR DE EMPRESA (NOMINA) CON VIOLENCIA',\n",
       " 'DAÑO SUELO (ACTIVIDAD, INVASIÓN O EXTRACCIÓN)',\n",
       " 'ROBO DE MAQUINARIA CON VIOLENCIA',\n",
       " 'ROBO A SUCURSAL BANCARIA (ASALTO BANCARIO) CON VIOLENCIA',\n",
       " 'ROBO A PASAJERO EN RTP CON VIOLENCIA',\n",
       " 'ATAQUE A LAS VIAS GENERALES DE COMUNICACIÓN',\n",
       " 'PERDIDA DE LA VIDA POR PRECIPITACION',\n",
       " 'PERDIDA DE LA VIDA POR CONGESTION ALCOHOLICA',\n",
       " 'ROBO A OFICINA PÚBLICA CON VIOLENCIA',\n",
       " 'ROBO A TRANSEUNTE EN HOTEL CON VIOLENCIA',\n",
       " 'PERDIDA DE LA VIDA POR INTOXICACION',\n",
       " 'HOMICIDIO CULPOSO POR TRÁNSITO VEHICULAR (CAIDA)',\n",
       " 'ROBO A PASAJERO EN TROLEBUS CON VIOLENCIA',\n",
       " 'ROBO A PASAJERO A BORDO DE METROBUS CON VIOLENCIA',\n",
       " 'CONTAMINACIÓN O RESIDUOS',\n",
       " 'REGULACIÓN URBANA',\n",
       " 'TALA',\n",
       " 'TENTATIVA DE FRAUDE',\n",
       " 'VIOLACION Y ROBO DE VEHICULO',\n",
       " 'VIOLACION EQUIPARADA Y ROBO DE VEHICULO',\n",
       " 'HOMICIDIO CULPOSO POR INSTRUMENTO PUNZO CORTANTE',\n",
       " 'ROBO EN INTERIOR DE EMPRESA (NOMINA) SIN VIOLENCIA',\n",
       " 'HOMICIDIO CULPOSO FUERA DEL D.F (COLISION)',\n",
       " 'ROBO A PASAJERO EN TREN SUBURBANO SIN VIOLENCIA',\n",
       " 'HOMICIDIO CULPOSO',\n",
       " 'ROBO A PASAJERO EN ECOBUS CON VIOLENCIA',\n",
       " 'OTROS CULPOSOS',\n",
       " 'USO INDEBIDO DE CONDECORACIONES UNIFORMES E INSIGNIAS',\n",
       " 'CONTRA EL ESTADO CIVIL',\n",
       " 'EVASION DE PRESOS',\n",
       " 'DELITOS ELECTORALES',\n",
       " 'ROBO A PASAJERO EN AUTOBÚS FORÁNEO CON VIOLENCIA',\n",
       " 'SABOTAJE',\n",
       " 'ROBO A TRANSEUNTE Y VEHICULO CON VIOLENCIA',\n",
       " 'ROBO A TRANSEUNTE EN VIA PUBLICA (NOMINA) CON VIOLENCIA',\n",
       " 'ROBO A TRANSEUNTE EN TERMINAL DE PASAJEROS CON VIOLENCIA',\n",
       " 'DAÑO EN PROPIEDAD AJENA CULPOSA POR TRÁNSITO VEHICULAR A VIAS DE COMUNICACION',\n",
       " 'ROBO A PASAJERO EN TREN LIGERO CON VIOLENCIA',\n",
       " 'VIOLACION DE LA INTIMIDAD',\n",
       " 'VIOLACION EQUIPARADA POR CONOCIDO',\n",
       " 'OPOSICION A LA OBRA PUBLICA',\n",
       " 'HOMICIDIO POR AHORCAMIENTO',\n",
       " 'INHUMACIONES Y/O EXHUMACIONES',\n",
       " 'PERDIDA DE LA VIDA POR DERRUMBE',\n",
       " 'LENOCINIO',\n",
       " 'ENRIQUECIMIENTO ILICITO',\n",
       " 'PELIGRO DE CONTAGIO',\n",
       " 'OPERACIONES CON RECURSOS DE PROCEDENCIA ILICITA',\n",
       " 'ENTREGA ILEGITIMA DE UN MENOR',\n",
       " 'CALUMNIAS',\n",
       " 'ROBO A PASAJERO EN AUTOBUS FORANEO SIN VIOLENCIA',\n",
       " 'PERDIDA DE LA VIDA POR ENVENENAMIENTO',\n",
       " 'CORRUPCIÓN DE PERSONAS MENORES DE EDAD O PERSONAS QUE NO TENGAN CAPACIDAD PARA COMPRENDER EL SIGNIFICADO DEL HECHO O DE PERSONAS QUE NO TENGAN CAPACIDAD DE RESISTIR LA CONDUCTA',\n",
       " 'USURPACION DE FUNCIONES PUBLICAS',\n",
       " 'FALSEDAD ANTE AUTORIDADES',\n",
       " 'ALLANAMIENTO DE MORADA, DESPACHO, OFICINA O ESTABLECIMIENTO MERCANTIL',\n",
       " 'FALSIFICACION O ALTERACION Y USO INDEBIDO DE DOCUMENTOS',\n",
       " 'DDH ANONIMAS',\n",
       " 'PRODUCCIÓN, IMPRESIÓN, ENAJENACIÓN, DISTRIBUCIÓN, ALTERACIÓN O FALSIFICACIÓN DE TÍTULOS AL PORTADOR, DOCUMENTOS DE CRÉDITO PÚBLICOS O VALES DE CANJE',\n",
       " 'OMISION DE AUXILIO O DE CUIDADO',\n",
       " 'ABUSO DE AUTORIDAD Y USO ILEGAL DE LA FUERZA PUBLICA',\n",
       " 'CONTRA EL CUMPLIMIENTO DE LA OBLIGACION ALIMENTARIA',\n",
       " 'RETENCIÓN O SUSTRACCIÓN DE MENORES INCAPACES',\n",
       " 'RESPONSABILIDAD PROFESIONAL Y TECNICA',\n",
       " 'FALSIFICACIÓN DE SELLOS, MARCAS, LLAVES, CUÑOS, TROQUELES, CONTRASEÑAS Y OTROS',\n",
       " 'ROBO A TRANSEUNTE CONDUCTOR DE TAXI PUBLICO Y PRIVADO CON VIOLENCIA',\n",
       " 'DDH RELACIONADAS',\n",
       " 'DESOBEDIENCIA Y RESISTENCIA DE PARTICULARES',\n",
       " 'DDH SIN DATOS',\n",
       " 'DDH OFICIO COLABORACION',\n",
       " 'PERSONAS EXTRAVIADAS Y AUSENTES',\n",
       " 'ENCUBRIMIENTO POR FAVORECIMIENTO Y RECEPTACIÓN',\n",
       " 'EJERCICIO ILEGAL Y ABANDONO DEL SERVICIO PUBLICO',\n",
       " 'DDH OTRAS MATERIAS',\n",
       " 'DDH FRVT',\n",
       " 'PORNOGRAFÍA',\n",
       " 'DDH REDES',\n",
       " 'DDH CERESO',\n",
       " 'ATAQUES A LA PAZ PUBLICA',\n",
       " 'ROBO A TRANSEUNTE A BORDO DE TAXI PÚBLICO Y PRIVADO CON VIOLENCIA',\n",
       " 'COBRANZA ILEGITIMA',\n",
       " 'PORTACIÓN, FABRICACIÓN E IMPORTACIÓN DE OBJETOS APTOS PARA AGREDIR',\n",
       " 'DELITOS DE ABOGADOS, PATRONOS, LITIGANTES Y ASESORES JURIDICOS',\n",
       " 'EXPLOTACIÓN LABORAL DE MENORES, PERSONAS CON DISCAPACIDAD FÍSICA O MENTAL Y ADULTOS MAYORES',\n",
       " 'FEMINICIDIO POR DISPARO DE ARMA DE FUEGO',\n",
       " 'ROBO A TRANSEUNTE A BORDO DE TAXI PUBLICO Y PRIVADO SIN VIOLENCIA',\n",
       " 'DDH FDS',\n",
       " 'DDH INCOMPETENCIA',\n",
       " 'FEMINICIDIO POR ARMA BLANCA',\n",
       " 'ROBO A SUCURSAL BANCARIA CON VIOLENCIA',\n",
       " 'FEMINICIDIO POR GOLPES',\n",
       " 'FABRICACION, COMERCIALIZACION Y USO INDEBIDO DE INSIGNIAS Y UNIFORMES',\n",
       " 'ROBO DE MAQUINARIA SIN VIOLENCIA',\n",
       " 'CONTAGIO VENERERO',\n",
       " 'COALICIÓN DE SERVIDORES PÚBLICOS',\n",
       " 'EJERCICIO ABUSIVO DE FUNCIONES',\n",
       " 'EXHORTOS',\n",
       " 'INHUMACION, EXHUMACION Y RESPETO A LOS CADAVERES O RESTOS HUMANOS',\n",
       " 'LESIONES INTENCIONALES Y ROBO DE VEHICULO',\n",
       " 'PANDILLA, ASOCIACIÓN DELICTUOSA Y DELINCUENCIA ORGANIZADA',\n",
       " 'VIOLACION TUMULTUARIA EQUIPARADA',\n",
       " 'DAÑO EN PROPIEDAD AJENA INTENCIONAL A VIAS DE COMUNICACION',\n",
       " 'OTROS DELITOS',\n",
       " 'EXPOSICION DE MENORES',\n",
       " 'ROBO A TRANSEUNTE EN CINE CON VIOLENCIA',\n",
       " 'ROBO A NEGOCIO SIN VIOLENCIA POR FARDEROS (TIENDAS DE AUTOSERVICIO)',\n",
       " 'ROBO A NEGOCIO SIN VIOLENCIA POR FARDEROS (TIENDAS DE CONVENIENCIA)',\n",
       " 'ROBO A NEGOCIO CON VIOLENCIA POR FARDEROS (TIENDAS DE CONVENIENCIA)',\n",
       " 'ROBO EN EVENTOS MASIVOS (DEPORTIVOS, CULTURALES, RELIGIOSOS Y ARTISTICOS) S/V',\n",
       " 'LESIONES DOLOSAS POR QUEMADURAS',\n",
       " 'ROBO S/V DENTRO DE NEGOCIOS, AUTOSERVICIOS, CONVENIENCIA',\n",
       " 'CONTRA LA INTIMIDAD SEXUAL',\n",
       " 'OPOSICION A QUE SE EJECUTE ALGUNA OBRA O TRABAJO PUBLICOS',\n",
       " 'ROBO DE VEHICULO EN PENSION, TALLER Y AGENCIAS S/V',\n",
       " 'ROBO A NEGOCIO CON VIOLENCIA POR FARDEROS (TIENDAS DE AUTOSERVICIO)',\n",
       " 'ROBO DE VEHICULO ELECTRICO MOTOPATIN',\n",
       " 'ACOSO SEXUAL AGRAVADO EN CONTRA DE MENORES',\n",
       " 'ROBO A LOCALES SEMIFIJOS (PUESTOS DE ALIMENTOS,BEBIDAS, ENSERES, PERIODICOS,LOTERIA, OTROS)',\n",
       " 'OPERACIONES CON RECURSOS DE PROCEDENCIA ILEGAL',\n",
       " 'OTROS AMBIENTALES',\n",
       " 'LESIONES CULPOSAS CON EXCLUYENTES DE RESPONSABILIDAD',\n",
       " 'HOMICIDIO CULPOSO CON EXCLUYENTES DE RESPONSABILIDAD',\n",
       " 'ROBO DE CONTENEDORES DE TRAILERS S/V',\n",
       " 'TENTATIVA DE FEMINICIDIO',\n",
       " 'ROBO DE MERCANCIA EN CONTENEDEROS EN ÁREAS FEDERALES',\n",
       " 'ROBO DE VEHICULO EN PENSION, TALLER Y AGENCIAS C/V',\n",
       " 'HOMICIDIO INTENCIONAL Y ROBO DE VEHICULO',\n",
       " 'MOTIN',\n",
       " 'ROBO DE VEHICULO Y NOMINA CON VIOLENCIA',\n",
       " 'ROBO DURANTE TRASLADO DE VALORES (NOMINA) SIN VIOLENCIA',\n",
       " 'LEY FEDERAL DE ARMAS DE FUEGO Y EXPLOSIVOS',\n",
       " 'SECUESTRO',\n",
       " 'CONTRA LA LEY GENERAL DE EXPLOSIVOS',\n",
       " 'ROBO A PASAJERO EN TREN SUBURBANO CON VIOLENCIA',\n",
       " 'ROBO DURANTE TRASLADO DE VALORES (NOMINA) CON VIOLENCIA',\n",
       " 'DESACATO',\n",
       " 'PROCREACION ASISTIDA',\n",
       " 'PERSONAS EXTRAVIADAS',\n",
       " 'ROBO DE INFANTE',\n",
       " 'DENUNCIA DE HECHOS POR ROBO DE CELULAR',\n",
       " 'ROBO A SUCURSAL BANCARIA DENTRO DE  TIENDAS DE AUTOSERVICIO S/V',\n",
       " 'VIOLACION TUMULTUARIA EQUIPARADA POR CONOCIDO',\n",
       " 'ASOCIACION DELICTUOSA',\n",
       " 'ROBO A SUCURSAL BANCARIA DENTRO DE  TIENDAS DE AUTOSERVICIO CON VIOLENCIA',\n",
       " 'INCESTO',\n",
       " 'ENCUBRIMIENTO POR FAVORECIMIENTO',\n",
       " 'HOMICIDIO DOLOSO',\n",
       " 'UTILIZACION INDEBIDA DE LA VIA PUBLICA',\n",
       " 'ROBO A SUCURSAL BANCARIA DENTRO DE TIENDAS DE AUTOSERVICIO SIN VIOLENCIA']"
      ]
     },
     "execution_count": 18,
     "metadata": {},
     "output_type": "execute_result"
    }
   ],
   "source": [
    "#Delitos existentes\n",
    "data.delito.unique().tolist()"
   ]
  },
  {
   "cell_type": "code",
   "execution_count": 19,
   "metadata": {},
   "outputs": [
    {
     "data": {
      "text/plain": [
       "['DELITO DE BAJO IMPACTO',\n",
       " 'ROBO A NEGOCIO CON VIOLENCIA',\n",
       " 'HECHO NO DELICTIVO',\n",
       " 'ROBO DE VEHÍCULO CON Y SIN VIOLENCIA',\n",
       " 'VIOLACIÓN',\n",
       " 'ROBO A REPARTIDOR CON Y SIN VIOLENCIA',\n",
       " 'ROBO A CUENTAHABIENTE SALIENDO DEL CAJERO CON VIOLENCIA',\n",
       " 'ROBO A TRANSEUNTE EN VÍA PÚBLICA CON Y SIN VIOLENCIA',\n",
       " 'LESIONES DOLOSAS POR DISPARO DE ARMA DE FUEGO',\n",
       " 'HOMICIDIO DOLOSO',\n",
       " 'ROBO A CASA HABITACIÓN CON VIOLENCIA',\n",
       " 'ROBO A TRANSPORTISTA CON Y SIN VIOLENCIA',\n",
       " 'ROBO A PASAJERO A BORDO DE MICROBUS CON Y SIN VIOLENCIA',\n",
       " 'ROBO A PASAJERO A BORDO DE TAXI CON VIOLENCIA',\n",
       " 'ROBO A PASAJERO A BORDO DEL METRO CON Y SIN VIOLENCIA',\n",
       " 'SECUESTRO',\n",
       " 'PLAGIO O SECUESTRO',\n",
       " 'FEMINICIDIO']"
      ]
     },
     "execution_count": 19,
     "metadata": {},
     "output_type": "execute_result"
    }
   ],
   "source": [
    "data.categoria_delito.unique().tolist()"
   ]
  },
  {
   "cell_type": "code",
   "execution_count": 20,
   "metadata": {},
   "outputs": [],
   "source": [
    "data = data[data.categoria_delito== \"HOMICIDIO DOLOSO\"]"
   ]
  },
  {
   "cell_type": "code",
   "execution_count": 21,
   "metadata": {},
   "outputs": [
    {
     "data": {
      "text/html": [
       "<div>\n",
       "<style scoped>\n",
       "    .dataframe tbody tr th:only-of-type {\n",
       "        vertical-align: middle;\n",
       "    }\n",
       "\n",
       "    .dataframe tbody tr th {\n",
       "        vertical-align: top;\n",
       "    }\n",
       "\n",
       "    .dataframe thead th {\n",
       "        text-align: right;\n",
       "    }\n",
       "</style>\n",
       "<table border=\"1\" class=\"dataframe\">\n",
       "  <thead>\n",
       "    <tr style=\"text-align: right;\">\n",
       "      <th></th>\n",
       "      <th>ao_hechos</th>\n",
       "      <th>mes_hechos</th>\n",
       "      <th>fecha_hechos</th>\n",
       "      <th>delito</th>\n",
       "      <th>categoria_delito</th>\n",
       "      <th>fiscalia</th>\n",
       "      <th>agencia</th>\n",
       "      <th>unidad_investigacion</th>\n",
       "      <th>alcaldia_hechos</th>\n",
       "      <th>colonia_hechos</th>\n",
       "      <th>ao_inicio</th>\n",
       "      <th>mes_inicio</th>\n",
       "      <th>fecha_inicio</th>\n",
       "      <th>calle_hechos</th>\n",
       "      <th>calle_hechos2</th>\n",
       "      <th>longitud</th>\n",
       "      <th>latitud</th>\n",
       "      <th>geopoint</th>\n",
       "    </tr>\n",
       "  </thead>\n",
       "  <tbody>\n",
       "    <tr>\n",
       "      <th>136</th>\n",
       "      <td>2016.0</td>\n",
       "      <td>Mayo</td>\n",
       "      <td>2016-05-20 00:40:00</td>\n",
       "      <td>HOMICIDIO POR ARMA DE FUEGO</td>\n",
       "      <td>HOMICIDIO DOLOSO</td>\n",
       "      <td>INVESTIGACIÓN EN CUAUHTEMOC</td>\n",
       "      <td>CUH-4</td>\n",
       "      <td>UI-1SD</td>\n",
       "      <td>CUAUHTEMOC</td>\n",
       "      <td>CENTRO</td>\n",
       "      <td>2016.0</td>\n",
       "      <td>Mayo</td>\n",
       "      <td>2016-05-20 00:57:04</td>\n",
       "      <td>REPUBLICA DE PARAGUAY</td>\n",
       "      <td>REPUBLICA DE ARGENTINA  Y  REPUBLICA DE BRASIL</td>\n",
       "      <td>-99.131875</td>\n",
       "      <td>19.441507</td>\n",
       "      <td>19.4415069998,-99.131875</td>\n",
       "    </tr>\n",
       "    <tr>\n",
       "      <th>324</th>\n",
       "      <td>2016.0</td>\n",
       "      <td>Mayo</td>\n",
       "      <td>2016-05-20 21:00:00</td>\n",
       "      <td>HOMICIDIOS INTENCIONALES (OTROS)</td>\n",
       "      <td>HOMICIDIO DOLOSO</td>\n",
       "      <td>INVESTIGACIÓN EN GUSTAVO A. MADERO</td>\n",
       "      <td>GAM-2</td>\n",
       "      <td>UI-2CD</td>\n",
       "      <td>GUSTAVO A MADERO</td>\n",
       "      <td>SIETE MARAVILLAS</td>\n",
       "      <td>2016.0</td>\n",
       "      <td>Mayo</td>\n",
       "      <td>2016-05-20 21:54:33</td>\n",
       "      <td>JARDINES DE BABILONIA</td>\n",
       "      <td>COLOSO DE RODAS</td>\n",
       "      <td>-99.144606</td>\n",
       "      <td>19.515712</td>\n",
       "      <td>19.5157119998,-99.144606</td>\n",
       "    </tr>\n",
       "    <tr>\n",
       "      <th>814</th>\n",
       "      <td>2016.0</td>\n",
       "      <td>Mayo</td>\n",
       "      <td>2016-05-24 00:10:00</td>\n",
       "      <td>HOMICIDIO POR ARMA DE FUEGO</td>\n",
       "      <td>HOMICIDIO DOLOSO</td>\n",
       "      <td>INVESTIGACIÓN EN GUSTAVO A. MADERO</td>\n",
       "      <td>GAM-6</td>\n",
       "      <td>UI-2CD</td>\n",
       "      <td>GUSTAVO A MADERO</td>\n",
       "      <td>SAN JUAN DE ARAGÓN I SECCIÓN</td>\n",
       "      <td>2016.0</td>\n",
       "      <td>Mayo</td>\n",
       "      <td>2016-05-24 00:38:15</td>\n",
       "      <td>CALLE 517</td>\n",
       "      <td>NaN</td>\n",
       "      <td>-99.092530</td>\n",
       "      <td>19.459148</td>\n",
       "      <td>19.4591478439,-99.0925297753</td>\n",
       "    </tr>\n",
       "    <tr>\n",
       "      <th>845</th>\n",
       "      <td>2016.0</td>\n",
       "      <td>Mayo</td>\n",
       "      <td>2016-05-24 09:15:00</td>\n",
       "      <td>HOMICIDIO POR ARMA BLANCA</td>\n",
       "      <td>HOMICIDIO DOLOSO</td>\n",
       "      <td>INVESTIGACIÓN EN MILPA ALTA</td>\n",
       "      <td>MIL-1</td>\n",
       "      <td>UI-3SD</td>\n",
       "      <td>MILPA ALTA</td>\n",
       "      <td>LA CONCEPCIÓN (VILLA MILPA ALTA)</td>\n",
       "      <td>2016.0</td>\n",
       "      <td>Mayo</td>\n",
       "      <td>2016-05-24 11:17:45</td>\n",
       "      <td>CALLE VERACRUZ</td>\n",
       "      <td>NaN</td>\n",
       "      <td>-99.021609</td>\n",
       "      <td>19.183942</td>\n",
       "      <td>19.1839422957,-99.0216085751</td>\n",
       "    </tr>\n",
       "    <tr>\n",
       "      <th>965</th>\n",
       "      <td>2016.0</td>\n",
       "      <td>Mayo</td>\n",
       "      <td>2016-05-24 21:00:00</td>\n",
       "      <td>HOMICIDIO POR ARMA DE FUEGO</td>\n",
       "      <td>HOMICIDIO DOLOSO</td>\n",
       "      <td>INVESTIGACIÓN EN TLAHUAC</td>\n",
       "      <td>TLH-1</td>\n",
       "      <td>UI-3SD</td>\n",
       "      <td>TLAHUAC</td>\n",
       "      <td>MIGUEL HIDALGO</td>\n",
       "      <td>2016.0</td>\n",
       "      <td>Mayo</td>\n",
       "      <td>2016-05-24 22:06:38</td>\n",
       "      <td>ADRIANA</td>\n",
       "      <td>MUZIO CLEMENTI</td>\n",
       "      <td>-99.050839</td>\n",
       "      <td>19.296451</td>\n",
       "      <td>19.2964508518,-99.0508389986</td>\n",
       "    </tr>\n",
       "    <tr>\n",
       "      <th>...</th>\n",
       "      <td>...</td>\n",
       "      <td>...</td>\n",
       "      <td>...</td>\n",
       "      <td>...</td>\n",
       "      <td>...</td>\n",
       "      <td>...</td>\n",
       "      <td>...</td>\n",
       "      <td>...</td>\n",
       "      <td>...</td>\n",
       "      <td>...</td>\n",
       "      <td>...</td>\n",
       "      <td>...</td>\n",
       "      <td>...</td>\n",
       "      <td>...</td>\n",
       "      <td>...</td>\n",
       "      <td>...</td>\n",
       "      <td>...</td>\n",
       "      <td>...</td>\n",
       "    </tr>\n",
       "    <tr>\n",
       "      <th>1015809</th>\n",
       "      <td>2020.0</td>\n",
       "      <td>Mayo</td>\n",
       "      <td>2020-05-23 10:07:00</td>\n",
       "      <td>HOMICIDIO POR GOLPES</td>\n",
       "      <td>HOMICIDIO DOLOSO</td>\n",
       "      <td>FISCALÍA DE INVESTIGACIÓN TERRITORIAL EN GUSTA...</td>\n",
       "      <td>GAM-6</td>\n",
       "      <td>UI-2CD</td>\n",
       "      <td>TLAHUAC</td>\n",
       "      <td>NUEVA TENOCHTITLÁN</td>\n",
       "      <td>2020.0</td>\n",
       "      <td>Mayo</td>\n",
       "      <td>2020-05-23 16:25:50</td>\n",
       "      <td>CANAL DE CHALCO</td>\n",
       "      <td>NaN</td>\n",
       "      <td>-99.058429</td>\n",
       "      <td>19.279878</td>\n",
       "      <td>19.2798777976,-99.0584286005</td>\n",
       "    </tr>\n",
       "    <tr>\n",
       "      <th>1015951</th>\n",
       "      <td>2020.0</td>\n",
       "      <td>Mayo</td>\n",
       "      <td>2020-05-24 20:35:00</td>\n",
       "      <td>HOMICIDIO POR ARMA DE FUEGO</td>\n",
       "      <td>HOMICIDIO DOLOSO</td>\n",
       "      <td>FISCALÍA DE INVESTIGACIÓN TERRITORIAL EN IZTAP...</td>\n",
       "      <td>IZP-9</td>\n",
       "      <td>UI-3SD</td>\n",
       "      <td>IZTAPALAPA</td>\n",
       "      <td>NaN</td>\n",
       "      <td>2020.0</td>\n",
       "      <td>Mayo</td>\n",
       "      <td>2020-05-24 20:35:09</td>\n",
       "      <td>AV. ERMITA IZTAPALAPA</td>\n",
       "      <td>NOTIFICACION HOSPITAL DE IZTAPALAPA</td>\n",
       "      <td>NaN</td>\n",
       "      <td>NaN</td>\n",
       "      <td>NaN</td>\n",
       "    </tr>\n",
       "    <tr>\n",
       "      <th>1016284</th>\n",
       "      <td>2020.0</td>\n",
       "      <td>Mayo</td>\n",
       "      <td>2020-05-27 07:15:00</td>\n",
       "      <td>HOMICIDIOS INTENCIONALES (OTROS)</td>\n",
       "      <td>HOMICIDIO DOLOSO</td>\n",
       "      <td>FISCALÍA DE INVESTIGACIÓN ESTRATÉGICA DEL DELI...</td>\n",
       "      <td>2</td>\n",
       "      <td>1 CON DETENIDO 1 C/D</td>\n",
       "      <td>BENITO JUAREZ</td>\n",
       "      <td>ACTIPAN</td>\n",
       "      <td>2020.0</td>\n",
       "      <td>Mayo</td>\n",
       "      <td>2020-05-27 08:01:29</td>\n",
       "      <td>ACTIPAN</td>\n",
       "      <td>NaN</td>\n",
       "      <td>-99.179401</td>\n",
       "      <td>19.369873</td>\n",
       "      <td>19.3698730058,-99.1794009115</td>\n",
       "    </tr>\n",
       "    <tr>\n",
       "      <th>1016393</th>\n",
       "      <td>2020.0</td>\n",
       "      <td>Mayo</td>\n",
       "      <td>2020-05-27 17:50:00</td>\n",
       "      <td>HOMICIDIO POR ARMA DE FUEGO</td>\n",
       "      <td>HOMICIDIO DOLOSO</td>\n",
       "      <td>FISCALÍA DE INVESTIGACIÓN ESTRATÉGICA DEL DELI...</td>\n",
       "      <td>2</td>\n",
       "      <td>1 CON DETENIDO 1 C/D</td>\n",
       "      <td>GUSTAVO A MADERO</td>\n",
       "      <td>AMPLIACIÓN PROGRESO NACIONAL</td>\n",
       "      <td>2020.0</td>\n",
       "      <td>Mayo</td>\n",
       "      <td>2020-05-27 19:28:32</td>\n",
       "      <td>PERLILLAR</td>\n",
       "      <td>CALLE 10</td>\n",
       "      <td>-99.161315</td>\n",
       "      <td>19.518775</td>\n",
       "      <td>19.5187754191,-99.1613146544</td>\n",
       "    </tr>\n",
       "    <tr>\n",
       "      <th>1016432</th>\n",
       "      <td>2020.0</td>\n",
       "      <td>Mayo</td>\n",
       "      <td>2020-05-28 07:40:00</td>\n",
       "      <td>HOMICIDIO POR GOLPES</td>\n",
       "      <td>HOMICIDIO DOLOSO</td>\n",
       "      <td>FISCALÍA DE INVESTIGACIÓN ESTRATÉGICA DEL DELI...</td>\n",
       "      <td>2</td>\n",
       "      <td>1 CON DETENIDO 1 C/D</td>\n",
       "      <td>IZTAPALAPA</td>\n",
       "      <td>LOS ÁNGELES APANOAYA</td>\n",
       "      <td>2020.0</td>\n",
       "      <td>Mayo</td>\n",
       "      <td>2020-05-28 09:22:18</td>\n",
       "      <td>AV. PERIFERICO</td>\n",
       "      <td>NOCHE BUENA</td>\n",
       "      <td>-99.061889</td>\n",
       "      <td>19.342418</td>\n",
       "      <td>19.3424179662,-99.0618891024</td>\n",
       "    </tr>\n",
       "  </tbody>\n",
       "</table>\n",
       "<p>5925 rows × 18 columns</p>\n",
       "</div>"
      ],
      "text/plain": [
       "         ao_hechos mes_hechos        fecha_hechos  \\\n",
       "136         2016.0       Mayo 2016-05-20 00:40:00   \n",
       "324         2016.0       Mayo 2016-05-20 21:00:00   \n",
       "814         2016.0       Mayo 2016-05-24 00:10:00   \n",
       "845         2016.0       Mayo 2016-05-24 09:15:00   \n",
       "965         2016.0       Mayo 2016-05-24 21:00:00   \n",
       "...            ...        ...                 ...   \n",
       "1015809     2020.0       Mayo 2020-05-23 10:07:00   \n",
       "1015951     2020.0       Mayo 2020-05-24 20:35:00   \n",
       "1016284     2020.0       Mayo 2020-05-27 07:15:00   \n",
       "1016393     2020.0       Mayo 2020-05-27 17:50:00   \n",
       "1016432     2020.0       Mayo 2020-05-28 07:40:00   \n",
       "\n",
       "                                   delito  categoria_delito  \\\n",
       "136           HOMICIDIO POR ARMA DE FUEGO  HOMICIDIO DOLOSO   \n",
       "324      HOMICIDIOS INTENCIONALES (OTROS)  HOMICIDIO DOLOSO   \n",
       "814           HOMICIDIO POR ARMA DE FUEGO  HOMICIDIO DOLOSO   \n",
       "845             HOMICIDIO POR ARMA BLANCA  HOMICIDIO DOLOSO   \n",
       "965           HOMICIDIO POR ARMA DE FUEGO  HOMICIDIO DOLOSO   \n",
       "...                                   ...               ...   \n",
       "1015809              HOMICIDIO POR GOLPES  HOMICIDIO DOLOSO   \n",
       "1015951       HOMICIDIO POR ARMA DE FUEGO  HOMICIDIO DOLOSO   \n",
       "1016284  HOMICIDIOS INTENCIONALES (OTROS)  HOMICIDIO DOLOSO   \n",
       "1016393       HOMICIDIO POR ARMA DE FUEGO  HOMICIDIO DOLOSO   \n",
       "1016432              HOMICIDIO POR GOLPES  HOMICIDIO DOLOSO   \n",
       "\n",
       "                                                  fiscalia agencia  \\\n",
       "136                            INVESTIGACIÓN EN CUAUHTEMOC   CUH-4   \n",
       "324                     INVESTIGACIÓN EN GUSTAVO A. MADERO   GAM-2   \n",
       "814                     INVESTIGACIÓN EN GUSTAVO A. MADERO   GAM-6   \n",
       "845                            INVESTIGACIÓN EN MILPA ALTA   MIL-1   \n",
       "965                               INVESTIGACIÓN EN TLAHUAC   TLH-1   \n",
       "...                                                    ...     ...   \n",
       "1015809  FISCALÍA DE INVESTIGACIÓN TERRITORIAL EN GUSTA...   GAM-6   \n",
       "1015951  FISCALÍA DE INVESTIGACIÓN TERRITORIAL EN IZTAP...   IZP-9   \n",
       "1016284  FISCALÍA DE INVESTIGACIÓN ESTRATÉGICA DEL DELI...       2   \n",
       "1016393  FISCALÍA DE INVESTIGACIÓN ESTRATÉGICA DEL DELI...       2   \n",
       "1016432  FISCALÍA DE INVESTIGACIÓN ESTRATÉGICA DEL DELI...       2   \n",
       "\n",
       "         unidad_investigacion   alcaldia_hechos  \\\n",
       "136                    UI-1SD        CUAUHTEMOC   \n",
       "324                    UI-2CD  GUSTAVO A MADERO   \n",
       "814                    UI-2CD  GUSTAVO A MADERO   \n",
       "845                    UI-3SD        MILPA ALTA   \n",
       "965                    UI-3SD           TLAHUAC   \n",
       "...                       ...               ...   \n",
       "1015809                UI-2CD           TLAHUAC   \n",
       "1015951                UI-3SD        IZTAPALAPA   \n",
       "1016284  1 CON DETENIDO 1 C/D     BENITO JUAREZ   \n",
       "1016393  1 CON DETENIDO 1 C/D  GUSTAVO A MADERO   \n",
       "1016432  1 CON DETENIDO 1 C/D        IZTAPALAPA   \n",
       "\n",
       "                           colonia_hechos  ao_inicio mes_inicio  \\\n",
       "136                                CENTRO     2016.0       Mayo   \n",
       "324                      SIETE MARAVILLAS     2016.0       Mayo   \n",
       "814          SAN JUAN DE ARAGÓN I SECCIÓN     2016.0       Mayo   \n",
       "845      LA CONCEPCIÓN (VILLA MILPA ALTA)     2016.0       Mayo   \n",
       "965                        MIGUEL HIDALGO     2016.0       Mayo   \n",
       "...                                   ...        ...        ...   \n",
       "1015809                NUEVA TENOCHTITLÁN     2020.0       Mayo   \n",
       "1015951                               NaN     2020.0       Mayo   \n",
       "1016284                           ACTIPAN     2020.0       Mayo   \n",
       "1016393      AMPLIACIÓN PROGRESO NACIONAL     2020.0       Mayo   \n",
       "1016432              LOS ÁNGELES APANOAYA     2020.0       Mayo   \n",
       "\n",
       "                fecha_inicio           calle_hechos  \\\n",
       "136      2016-05-20 00:57:04  REPUBLICA DE PARAGUAY   \n",
       "324      2016-05-20 21:54:33  JARDINES DE BABILONIA   \n",
       "814      2016-05-24 00:38:15              CALLE 517   \n",
       "845      2016-05-24 11:17:45         CALLE VERACRUZ   \n",
       "965      2016-05-24 22:06:38                ADRIANA   \n",
       "...                      ...                    ...   \n",
       "1015809  2020-05-23 16:25:50        CANAL DE CHALCO   \n",
       "1015951  2020-05-24 20:35:09  AV. ERMITA IZTAPALAPA   \n",
       "1016284  2020-05-27 08:01:29                ACTIPAN   \n",
       "1016393  2020-05-27 19:28:32              PERLILLAR   \n",
       "1016432  2020-05-28 09:22:18         AV. PERIFERICO   \n",
       "\n",
       "                                          calle_hechos2   longitud    latitud  \\\n",
       "136      REPUBLICA DE ARGENTINA  Y  REPUBLICA DE BRASIL -99.131875  19.441507   \n",
       "324                                     COLOSO DE RODAS -99.144606  19.515712   \n",
       "814                                                 NaN -99.092530  19.459148   \n",
       "845                                                 NaN -99.021609  19.183942   \n",
       "965                                      MUZIO CLEMENTI -99.050839  19.296451   \n",
       "...                                                 ...        ...        ...   \n",
       "1015809                                             NaN -99.058429  19.279878   \n",
       "1015951             NOTIFICACION HOSPITAL DE IZTAPALAPA        NaN        NaN   \n",
       "1016284                                             NaN -99.179401  19.369873   \n",
       "1016393                                        CALLE 10 -99.161315  19.518775   \n",
       "1016432                                     NOCHE BUENA -99.061889  19.342418   \n",
       "\n",
       "                             geopoint  \n",
       "136          19.4415069998,-99.131875  \n",
       "324          19.5157119998,-99.144606  \n",
       "814      19.4591478439,-99.0925297753  \n",
       "845      19.1839422957,-99.0216085751  \n",
       "965      19.2964508518,-99.0508389986  \n",
       "...                               ...  \n",
       "1015809  19.2798777976,-99.0584286005  \n",
       "1015951                           NaN  \n",
       "1016284  19.3698730058,-99.1794009115  \n",
       "1016393  19.5187754191,-99.1613146544  \n",
       "1016432  19.3424179662,-99.0618891024  \n",
       "\n",
       "[5925 rows x 18 columns]"
      ]
     },
     "execution_count": 21,
     "metadata": {},
     "output_type": "execute_result"
    }
   ],
   "source": [
    "data"
   ]
  },
  {
   "cell_type": "code",
   "execution_count": 22,
   "metadata": {},
   "outputs": [
    {
     "data": {
      "text/html": [
       "<div>\n",
       "<style scoped>\n",
       "    .dataframe tbody tr th:only-of-type {\n",
       "        vertical-align: middle;\n",
       "    }\n",
       "\n",
       "    .dataframe tbody tr th {\n",
       "        vertical-align: top;\n",
       "    }\n",
       "\n",
       "    .dataframe thead th {\n",
       "        text-align: right;\n",
       "    }\n",
       "</style>\n",
       "<table border=\"1\" class=\"dataframe\">\n",
       "  <thead>\n",
       "    <tr style=\"text-align: right;\">\n",
       "      <th></th>\n",
       "      <th>ao_hechos</th>\n",
       "      <th>mes_hechos</th>\n",
       "      <th>fecha_hechos</th>\n",
       "      <th>delito</th>\n",
       "      <th>categoria_delito</th>\n",
       "      <th>fiscalia</th>\n",
       "      <th>agencia</th>\n",
       "      <th>unidad_investigacion</th>\n",
       "      <th>alcaldia_hechos</th>\n",
       "      <th>colonia_hechos</th>\n",
       "      <th>ao_inicio</th>\n",
       "      <th>mes_inicio</th>\n",
       "      <th>fecha_inicio</th>\n",
       "      <th>calle_hechos</th>\n",
       "      <th>calle_hechos2</th>\n",
       "      <th>longitud</th>\n",
       "      <th>latitud</th>\n",
       "      <th>geopoint</th>\n",
       "    </tr>\n",
       "    <tr>\n",
       "      <th>fecha_hechos</th>\n",
       "      <th></th>\n",
       "      <th></th>\n",
       "      <th></th>\n",
       "      <th></th>\n",
       "      <th></th>\n",
       "      <th></th>\n",
       "      <th></th>\n",
       "      <th></th>\n",
       "      <th></th>\n",
       "      <th></th>\n",
       "      <th></th>\n",
       "      <th></th>\n",
       "      <th></th>\n",
       "      <th></th>\n",
       "      <th></th>\n",
       "      <th></th>\n",
       "      <th></th>\n",
       "      <th></th>\n",
       "    </tr>\n",
       "  </thead>\n",
       "  <tbody>\n",
       "    <tr>\n",
       "      <th>22.0</th>\n",
       "      <td>308</td>\n",
       "      <td>308</td>\n",
       "      <td>308</td>\n",
       "      <td>308</td>\n",
       "      <td>308</td>\n",
       "      <td>308</td>\n",
       "      <td>308</td>\n",
       "      <td>308</td>\n",
       "      <td>299</td>\n",
       "      <td>267</td>\n",
       "      <td>308</td>\n",
       "      <td>308</td>\n",
       "      <td>308</td>\n",
       "      <td>307</td>\n",
       "      <td>193</td>\n",
       "      <td>267</td>\n",
       "      <td>267</td>\n",
       "      <td>267</td>\n",
       "    </tr>\n",
       "    <tr>\n",
       "      <th>0.0</th>\n",
       "      <td>296</td>\n",
       "      <td>296</td>\n",
       "      <td>296</td>\n",
       "      <td>296</td>\n",
       "      <td>296</td>\n",
       "      <td>296</td>\n",
       "      <td>296</td>\n",
       "      <td>296</td>\n",
       "      <td>272</td>\n",
       "      <td>221</td>\n",
       "      <td>296</td>\n",
       "      <td>296</td>\n",
       "      <td>296</td>\n",
       "      <td>294</td>\n",
       "      <td>183</td>\n",
       "      <td>221</td>\n",
       "      <td>221</td>\n",
       "      <td>221</td>\n",
       "    </tr>\n",
       "    <tr>\n",
       "      <th>23.0</th>\n",
       "      <td>293</td>\n",
       "      <td>293</td>\n",
       "      <td>293</td>\n",
       "      <td>293</td>\n",
       "      <td>293</td>\n",
       "      <td>293</td>\n",
       "      <td>293</td>\n",
       "      <td>293</td>\n",
       "      <td>289</td>\n",
       "      <td>260</td>\n",
       "      <td>293</td>\n",
       "      <td>293</td>\n",
       "      <td>293</td>\n",
       "      <td>291</td>\n",
       "      <td>170</td>\n",
       "      <td>260</td>\n",
       "      <td>260</td>\n",
       "      <td>260</td>\n",
       "    </tr>\n",
       "    <tr>\n",
       "      <th>20.0</th>\n",
       "      <td>263</td>\n",
       "      <td>263</td>\n",
       "      <td>263</td>\n",
       "      <td>263</td>\n",
       "      <td>263</td>\n",
       "      <td>263</td>\n",
       "      <td>263</td>\n",
       "      <td>263</td>\n",
       "      <td>258</td>\n",
       "      <td>239</td>\n",
       "      <td>263</td>\n",
       "      <td>263</td>\n",
       "      <td>263</td>\n",
       "      <td>262</td>\n",
       "      <td>158</td>\n",
       "      <td>240</td>\n",
       "      <td>240</td>\n",
       "      <td>240</td>\n",
       "    </tr>\n",
       "    <tr>\n",
       "      <th>21.0</th>\n",
       "      <td>246</td>\n",
       "      <td>246</td>\n",
       "      <td>246</td>\n",
       "      <td>246</td>\n",
       "      <td>246</td>\n",
       "      <td>246</td>\n",
       "      <td>246</td>\n",
       "      <td>246</td>\n",
       "      <td>244</td>\n",
       "      <td>222</td>\n",
       "      <td>246</td>\n",
       "      <td>246</td>\n",
       "      <td>246</td>\n",
       "      <td>245</td>\n",
       "      <td>144</td>\n",
       "      <td>222</td>\n",
       "      <td>222</td>\n",
       "      <td>222</td>\n",
       "    </tr>\n",
       "  </tbody>\n",
       "</table>\n",
       "</div>"
      ],
      "text/plain": [
       "              ao_hechos  mes_hechos  fecha_hechos  delito  categoria_delito  \\\n",
       "fecha_hechos                                                                  \n",
       "22.0                308         308           308     308               308   \n",
       "0.0                 296         296           296     296               296   \n",
       "23.0                293         293           293     293               293   \n",
       "20.0                263         263           263     263               263   \n",
       "21.0                246         246           246     246               246   \n",
       "\n",
       "              fiscalia  agencia  unidad_investigacion  alcaldia_hechos  \\\n",
       "fecha_hechos                                                             \n",
       "22.0               308      308                   308              299   \n",
       "0.0                296      296                   296              272   \n",
       "23.0               293      293                   293              289   \n",
       "20.0               263      263                   263              258   \n",
       "21.0               246      246                   246              244   \n",
       "\n",
       "              colonia_hechos  ao_inicio  mes_inicio  fecha_inicio  \\\n",
       "fecha_hechos                                                        \n",
       "22.0                     267        308         308           308   \n",
       "0.0                      221        296         296           296   \n",
       "23.0                     260        293         293           293   \n",
       "20.0                     239        263         263           263   \n",
       "21.0                     222        246         246           246   \n",
       "\n",
       "              calle_hechos  calle_hechos2  longitud  latitud  geopoint  \n",
       "fecha_hechos                                                            \n",
       "22.0                   307            193       267      267       267  \n",
       "0.0                    294            183       221      221       221  \n",
       "23.0                   291            170       260      260       260  \n",
       "20.0                   262            158       240      240       240  \n",
       "21.0                   245            144       222      222       222  "
      ]
     },
     "execution_count": 22,
     "metadata": {},
     "output_type": "execute_result"
    }
   ],
   "source": [
    "#Hora del día en donde hay más violaciones\n",
    "data[\"fecha_hechos\"] = pd.to_datetime(data[\"fecha_hechos\"],format=\"%Y-%m-%d %H:%M:%S\",errors=\"coerce\")\n",
    "data.groupby(data.fecha_hechos.dt.hour).count().nlargest(5,\"ao_hechos\")"
   ]
  },
  {
   "cell_type": "code",
   "execution_count": 23,
   "metadata": {},
   "outputs": [],
   "source": [
    "longitud = data[data.fecha_hechos.dt.hour==12][\"longitud\"].tolist()\n",
    "latitud = data[data.fecha_hechos.dt.hour==12][\"latitud\"].tolist()\n",
    "data = data.dropna()"
   ]
  },
  {
   "cell_type": "code",
   "execution_count": 24,
   "metadata": {},
   "outputs": [
    {
     "name": "stderr",
     "output_type": "stream",
     "text": [
      "C:\\Users\\sectei-3\\anaconda3\\lib\\site-packages\\seaborn\\distributions.py:437: UserWarning: The following kwargs were not used by contour: 'cmaps'\n",
      "  cset = contour_func(xx, yy, z, n_levels, **kwargs)\n"
     ]
    },
    {
     "data": {
      "text/plain": [
       "<matplotlib.collections.PathCollection at 0x1c19674ba48>"
      ]
     },
     "execution_count": 24,
     "metadata": {},
     "output_type": "execute_result"
    },
    {
     "data": {
      "image/png": "[encoded data removed]",
      "text/plain": [
       "<Figure size 1080x1296 with 2 Axes>"
      ]
     },
     "metadata": {
      "needs_background": "light"
     },
     "output_type": "display_data"
    }
   ],
   "source": [
    "plot_map(datos)\n",
    "sbn.kdeplot(data[data.fecha_hechos.dt.hour==12][\"longitud\"],data[data.fecha_hechos.dt.hour==12][\"latitud\"],cmaps=\"Reds\",cbar=True,shade=True,shade_lowest=False)\n",
    "plt.scatter(data[data.fecha_hechos.dt.hour==12][\"longitud\"],data[data.fecha_hechos.dt.hour==12][\"latitud\"],color=\"yellow\")"
   ]
  },
  {
   "cell_type": "code",
   "execution_count": 25,
   "metadata": {},
   "outputs": [
    {
     "data": {
      "text/plain": [
       "<matplotlib.collections.PathCollection at 0x1c192696088>"
      ]
     },
     "execution_count": 25,
     "metadata": {},
     "output_type": "execute_result"
    },
    {
     "data": {
      "image/png": "[encoded data removed]",
      "text/plain": [
       "<Figure size 432x288 with 1 Axes>"
      ]
     },
     "metadata": {
      "needs_background": "light"
     },
     "output_type": "display_data"
    }
   ],
   "source": [
    "#Puntos en x y puntos en y\n",
    "plt.scatter(data[\"longitud\"],data[\"latitud\"])"
   ]
  },
  {
   "cell_type": "code",
   "execution_count": 26,
   "metadata": {},
   "outputs": [],
   "source": [
    "#La media, desviación estandar en x y Y\n",
    "muX , stdX = norm.fit(data[\"longitud\"])\n",
    "muY , stdY = norm.fit(data[\"latitud\"])"
   ]
  },
  {
   "cell_type": "code",
   "execution_count": 27,
   "metadata": {},
   "outputs": [],
   "source": [
    "#Media y covarianza en dos dimensiones\n",
    "mean = [muX, muY]\n",
    "cov = [[stdX/4,0],[0,stdY/4]]\n",
    "x, y = np.random.multivariate_normal(mean,cov,500).T"
   ]
  },
  {
   "cell_type": "code",
   "execution_count": 28,
   "metadata": {},
   "outputs": [
    {
     "data": {
      "text/plain": [
       "(0.6666666666666667, 7.401486830834377e-15)"
      ]
     },
     "execution_count": 28,
     "metadata": {},
     "output_type": "execute_result"
    }
   ],
   "source": [
    "#Integral doble \n",
    "inicio = (-99.3,19.4)\n",
    "final = (-99,19.5)\n",
    "f = lambda y,x:x*y**2\n",
    "integrate.dblquad(f,0,2,lambda x: 0, lambda x : 1)"
   ]
  },
  {
   "cell_type": "code",
   "execution_count": 29,
   "metadata": {},
   "outputs": [
    {
     "name": "stderr",
     "output_type": "stream",
     "text": [
      "C:\\Users\\sectei-3\\anaconda3\\lib\\site-packages\\seaborn\\distributions.py:437: UserWarning: The following kwargs were not used by contour: 'cmaps'\n",
      "  cset = contour_func(xx, yy, z, n_levels, **kwargs)\n"
     ]
    },
    {
     "data": {
      "text/plain": [
       "[<matplotlib.lines.Line2D at 0x1c18fe81bc8>]"
      ]
     },
     "execution_count": 29,
     "metadata": {},
     "output_type": "execute_result"
    },
    {
     "data": {
      "image/png": "[encoded data removed]",
      "text/plain": [
       "<Figure size 1080x1296 with 2 Axes>"
      ]
     },
     "metadata": {
      "needs_background": "light"
     },
     "output_type": "display_data"
    }
   ],
   "source": [
    "#Ploteo de una función normal multivariable\n",
    "plot_map(datos)\n",
    "sbn.kdeplot(x,y,cmaps=\"Reds\",cbar=True,shade=True,shade_lowest=False)\n",
    "#Distribución gaussiana\n",
    "plt.plot(x,y,'*', color=\"red\")\n",
    "#plt.scatter(data[\"longitud\"],data[\"latitud\"],color=\"red\")"
   ]
  },
  {
   "cell_type": "code",
   "execution_count": 30,
   "metadata": {},
   "outputs": [],
   "source": [
    "'''\n",
    "def funcion(x,y):\n",
    "    return x,y\n",
    "'''\n",
    "t = np.arange(0,np.pi/2,0.1)"
   ]
  },
  {
   "cell_type": "code",
   "execution_count": 31,
   "metadata": {},
   "outputs": [
    {
     "data": {
      "text/plain": [
       "0.4974742632679769"
      ]
     },
     "execution_count": 31,
     "metadata": {},
     "output_type": "execute_result"
    }
   ],
   "source": [
    "x, y = np.cos(y),np.sin(t)\n",
    "integral = np.cos(t)*np.sin(t)*(((-np.sin(t))**2+(np.cos(t))**2)**.5)\n",
    "simps(integral,t)"
   ]
  },
  {
   "cell_type": "code",
   "execution_count": 32,
   "metadata": {},
   "outputs": [
    {
     "data": {
      "text/plain": [
       "11091.15550471738"
      ]
     },
     "execution_count": 32,
     "metadata": {},
     "output_type": "execute_result"
    }
   ],
   "source": [
    "#Segunda integral\n",
    "integral = (4*np.cos(t))*((4*np.sin(t))**5)*(((-4*np.sin(t))**2+(4*np.cos(t))**2+.5))\n",
    "simps(integral,t)"
   ]
  },
  {
   "cell_type": "code",
   "execution_count": 33,
   "metadata": {},
   "outputs": [
    {
     "data": {
      "text/plain": [
       "102.51902899685471"
      ]
     },
     "execution_count": 33,
     "metadata": {},
     "output_type": "execute_result"
    }
   ],
   "source": [
    "#Tercera integral\n",
    "t = np.arange(1,3,.001)\n",
    "integral = (t**3+np.log(t))*(2*t)\n",
    "simps(integral,t)"
   ]
  },
  {
   "cell_type": "markdown",
   "metadata": {},
   "source": [
    "# 25 Julio 2020"
   ]
  },
  {
   "cell_type": "markdown",
   "metadata": {},
   "source": [
    "# Regresión gaussiana"
   ]
  },
  {
   "cell_type": "code",
   "execution_count": 37,
   "metadata": {},
   "outputs": [
    {
     "name": "stdout",
     "output_type": "stream",
     "text": [
      "0.0\n"
     ]
    }
   ],
   "source": [
    "#Calculo de ro para una función gaussina de 2 variables\n",
    "sigma_11 = stdX/8\n",
    "sigma_12 = 0\n",
    "sigma_21 = 0\n",
    "sigma_22 = stdY/8\n",
    "sigma_1 = math.sqrt(sigma_11**2+sigma_12**2)\n",
    "sigma_2 = math.sqrt(sigma_21**2+sigma_22**2)\n",
    "ro = ((sigma_11*sigma_21)+(sigma_12*sigma_22))/(sigma_1*sigma_2)\n",
    "print(ro)"
   ]
  },
  {
   "cell_type": "code",
   "execution_count": 42,
   "metadata": {},
   "outputs": [],
   "source": [
    "#Función gaussiana de dos variables\n",
    "def gaussiana(x,y):\n",
    "    z = ((x-muX)**2/pow(sigma_1,2))-((2*ro*(x-muX)*(y-muY))/(sigma_1*sigma_2))+((y-muY)**2/pow(sigma_2,2))\n",
    "    gauss = (1/(2*np.pi*sigma_1*sigma_2*(math.sqrt(1-ro**2))))*math.exp(-z/(2*(1-ro**2)))\n",
    "    return gauss"
   ]
  },
  {
   "cell_type": "code",
   "execution_count": 46,
   "metadata": {},
   "outputs": [
    {
     "name": "stdout",
     "output_type": "stream",
     "text": [
      "4.204499532012362e-21\n",
      "78.82788298488329\n"
     ]
    }
   ],
   "source": [
    "#Pruebas de la gaussiana\n",
    "valor1 = -99.2,19,6\n",
    "valor2 = (-99.1,19.4)\n",
    "print(gaussiana(valor1[0],valor2[1]))\n",
    "print(gaussiana(valor2[0],valor2[1]))"
   ]
  },
  {
   "cell_type": "code",
   "execution_count": 49,
   "metadata": {},
   "outputs": [
    {
     "name": "stdout",
     "output_type": "stream",
     "text": [
      "0.33333333333334125\n"
     ]
    }
   ],
   "source": [
    "x(t), y(t) = -99.3,19.4\n",
    "#Ecuacion de una recta\n",
    "pendiente = (19.5-19.4)/(-99+99.3)\n",
    "y = (.33*(t+99.3)+19.4)\n",
    "print(pendiente)"
   ]
  },
  {
   "cell_type": "code",
   "execution_count": 61,
   "metadata": {},
   "outputs": [],
   "source": [
    "ro = (cov[0][0]*cov[1][0]+cov[0][1]*cov[1][1])/((np.sqrt((cov[0][0]**2+cov[0][1]**2)))*(np.sqrt((cov[1][0]**2+cov[1][1]**2))))\n",
    "zigma2 = np.sqrt((cov[1][0]**2+cov[1][1]**2))\n",
    "zigma1 = (np.sqrt((cov[0][0]**2+cov[0][1]**2)))\n",
    "cte = 1/(2*np.pi*zigma1*zigma1)\n",
    "def gaussiana(t):\n",
    "    exp = np.exp(-((((t-muX)**2)/zigma1**2)+((((0.3333*(t+99.3)+19.4)-muY)**2)/zigma2))/2)\n",
    "    return cte*exp\n"
   ]
  },
  {
   "cell_type": "code",
   "execution_count": 62,
   "metadata": {},
   "outputs": [
    {
     "data": {
      "text/plain": [
       "23.619814433172927"
      ]
     },
     "execution_count": 62,
     "metadata": {},
     "output_type": "execute_result"
    }
   ],
   "source": [
    "t = np.arange(-99.3,-99,.0001)\n",
    "simps(gaussiana(t)*np.sqrt(1.108),t)"
   ]
  },
  {
   "cell_type": "code",
   "execution_count": null,
   "metadata": {},
   "outputs": [],
   "source": []
  }
 ],
 "metadata": {
  "kernelspec": {
   "display_name": "Python 3",
   "language": "python",
   "name": "python3"
  },
  "language_info": {
   "codemirror_mode": {
    "name": "ipython",
    "version": 3
   },
   "file_extension": ".py",
   "mimetype": "text/x-python",
   "name": "python",
   "nbconvert_exporter": "python",
   "pygments_lexer": "ipython3",
   "version": "3.7.6"
  }
 },
 "nbformat": 4,
 "nbformat_minor": 4
}
